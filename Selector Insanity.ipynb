{
 "cells": [
  {
   "cell_type": "markdown",
   "id": "68ee4b9e",
   "metadata": {},
   "source": [
    "## Definitions "
   ]
  },
  {
   "cell_type": "code",
   "execution_count": 148,
   "id": "001c9e0a",
   "metadata": {},
   "outputs": [],
   "source": [
    "sigs = [\n",
    "    # metadata\n",
    "    'name()',\n",
    "    'symbol()',\n",
    "    'decimals()',\n",
    "    # global\n",
    "    'totalSupply()',\n",
    "    # transfer related\n",
    "    'transferFrom(address,address,uint256)',\n",
    "    'transfer(address, uint256)',\n",
    "    'balanceOf(address)',\n",
    "    # approval\n",
    "    'approve(address,uint256)',\n",
    "    'allowance(address, address)',\n",
    "    # deposit\n",
    "    'deposit()',\n",
    "    'depositTo(address)',\n",
    "    'depositAmountTo(address, uint256)',\n",
    "    'depositAmount(uint256)',\n",
    "    # withdraw\n",
    "    'withdraw(uint256)',\n",
    "    'withdrawTo(address, uint256)',\n",
    "    'withdrawFrom(address, uint256)',\n",
    "    'withdrawFromTo(address, address uint256)',\n",
    "    # permit\n",
    "    'DOMAIN_SEPARATOR()',\n",
    "    'nonces(address)',\n",
    "    'permit(address, address, uint256, uint256, uint8, bytes32, bytes32)',\n",
    "    # utility\n",
    "    'multicall(bytes[])',\n",
    "]"
   ]
  },
  {
   "cell_type": "code",
   "execution_count": 157,
   "id": "15606a5a",
   "metadata": {},
   "outputs": [
    {
     "name": "stdout",
     "output_type": "stream",
     "text": [
      "#define function name() payable returns ()\n",
      "#define function symbol() payable returns ()\n",
      "#define function decimals() payable returns ()\n",
      "#define function totalSupply() payable returns ()\n",
      "#define function transferFrom(address,address,uint256) payable returns ()\n",
      "#define function transfer(address, uint256) payable returns ()\n",
      "#define function balanceOf(address) payable returns ()\n",
      "#define function approve(address,uint256) payable returns ()\n",
      "#define function allowance(address, address) payable returns ()\n",
      "#define function deposit() payable returns ()\n",
      "#define function depositTo(address) payable returns ()\n",
      "#define function depositAmountTo(address, uint256) payable returns ()\n",
      "#define function depositAmount(uint256) payable returns ()\n",
      "#define function withdraw(uint256) payable returns ()\n",
      "#define function withdrawTo(address, uint256) payable returns ()\n",
      "#define function withdrawFrom(address, uint256) payable returns ()\n",
      "#define function withdrawFromTo(address, address uint256) payable returns ()\n",
      "#define function DOMAIN_SEPARATOR() payable returns ()\n",
      "#define function nonces(address) payable returns ()\n",
      "#define function permit(address, address, uint256, uint256, uint8, bytes32, bytes32) payable returns ()\n",
      "#define function multicall(bytes[]) payable returns ()\n",
      "name_dest:\n",
      "    dup1 __FUNC_SIG(name)               sub no_selector_match jumpi\n",
      "symbol_dest:\n",
      "    dup1 __FUNC_SIG(symbol)             sub no_selector_match jumpi\n",
      "decimals_dest:\n",
      "    dup1 __FUNC_SIG(decimals)           sub no_selector_match jumpi\n",
      "totalSupply_dest:\n",
      "    dup1 __FUNC_SIG(totalSupply)        sub no_selector_match jumpi\n",
      "transferFrom_dest:\n",
      "    dup1 __FUNC_SIG(transferFrom)       sub no_selector_match jumpi\n",
      "transfer_dest:\n",
      "    dup1 __FUNC_SIG(transfer)           sub no_selector_match jumpi\n",
      "balanceOf_dest:\n",
      "    dup1 __FUNC_SIG(balanceOf)          sub no_selector_match jumpi\n",
      "approve_dest:\n",
      "    dup1 __FUNC_SIG(approve)            sub no_selector_match jumpi\n",
      "allowance_dest:\n",
      "    dup1 __FUNC_SIG(allowance)          sub no_selector_match jumpi\n",
      "deposit_dest:\n",
      "    dup1 __FUNC_SIG(deposit)            sub no_selector_match jumpi\n",
      "depositTo_dest:\n",
      "    dup1 __FUNC_SIG(depositTo)          sub no_selector_match jumpi\n",
      "depositAmountTo_dest:\n",
      "    dup1 __FUNC_SIG(depositAmountTo)    sub no_selector_match jumpi\n",
      "depositAmount_dest:\n",
      "    dup1 __FUNC_SIG(depositAmount)      sub no_selector_match jumpi\n",
      "withdraw_dest:\n",
      "    dup1 __FUNC_SIG(withdraw)           sub no_selector_match jumpi\n",
      "withdrawTo_dest:\n",
      "    dup1 __FUNC_SIG(withdrawTo)         sub no_selector_match jumpi\n",
      "withdrawFrom_dest:\n",
      "    dup1 __FUNC_SIG(withdrawFrom)       sub no_selector_match jumpi\n",
      "withdrawFromTo_dest:\n",
      "    dup1 __FUNC_SIG(withdrawFromTo)     sub no_selector_match jumpi\n",
      "DOMAIN_SEPARATOR_dest:\n",
      "    dup1 __FUNC_SIG(DOMAIN_SEPARATOR)   sub no_selector_match jumpi\n",
      "nonces_dest:\n",
      "    dup1 __FUNC_SIG(nonces)             sub no_selector_match jumpi\n",
      "permit_dest:\n",
      "    dup1 __FUNC_SIG(permit)             sub no_selector_match jumpi\n",
      "multicall_dest:\n",
      "    dup1 __FUNC_SIG(multicall)          sub no_selector_match jumpi\n"
     ]
    }
   ],
   "source": [
    "# get Huff define statements\n",
    "for sig in sigs:\n",
    "    print(f'#define function {sig} payable returns ()')\n",
    "    \n",
    "for sig in sigs:\n",
    "    fn_name = sig.split('(')[0]\n",
    "    print(f'{fn_name}_dest:')\n",
    "    fn_sig = f'__FUNC_SIG({fn_name})'\n",
    "    print(f'    dup1 {fn_sig:30} sub no_selector_match jumpi')"
   ]
  },
  {
   "cell_type": "code",
   "execution_count": 34,
   "id": "d9fe7875",
   "metadata": {},
   "outputs": [],
   "source": [
    "from eth_utils import function_signature_to_4byte_selector"
   ]
  },
  {
   "cell_type": "code",
   "execution_count": 35,
   "id": "fe8a52a4",
   "metadata": {},
   "outputs": [
    {
     "data": {
      "text/plain": [
       "[117300739,\n",
       " 2514000705,\n",
       " 826074471,\n",
       " 404098525,\n",
       " 599290589,\n",
       " 2835717307,\n",
       " 1889567281,\n",
       " 157198259,\n",
       " 3714247998,\n",
       " 910484757,\n",
       " 2127478272,\n",
       " 3573918927,\n",
       " 2895532248,\n",
       " 3504541104,\n",
       " 3076586233,\n",
       " 2986778176,\n",
       " 2281220902,\n",
       " 773487949,\n",
       " 542910584,\n",
       " 2490413245,\n",
       " 3365482902]"
      ]
     },
     "execution_count": 35,
     "metadata": {},
     "output_type": "execute_result"
    }
   ],
   "source": [
    "selectors = [\n",
    "    int.from_bytes(function_signature_to_4byte_selector(sig), 'big')\n",
    "    for sig in sigs\n",
    "]\n",
    "selectors"
   ]
  },
  {
   "cell_type": "markdown",
   "id": "e08754c7",
   "metadata": {},
   "source": [
    "## Bit Search\n",
    "### Bits Required"
   ]
  },
  {
   "cell_type": "code",
   "execution_count": 36,
   "id": "c041261b",
   "metadata": {},
   "outputs": [
    {
     "data": {
      "text/plain": [
       "5"
      ]
     },
     "execution_count": 36,
     "metadata": {},
     "output_type": "execute_result"
    }
   ],
   "source": [
    "from math import ceil, log2\n",
    "bits = int(ceil(log2(len(selectors))))\n",
    "bits"
   ]
  },
  {
   "cell_type": "markdown",
   "id": "d8af59a4",
   "metadata": {},
   "source": [
    "### Basic Search"
   ]
  },
  {
   "cell_type": "code",
   "execution_count": 42,
   "id": "710696ad",
   "metadata": {},
   "outputs": [],
   "source": [
    "def mask(n):\n",
    "    return (1 << n) - 1"
   ]
  },
  {
   "cell_type": "code",
   "execution_count": 112,
   "id": "96e32a9f",
   "metadata": {},
   "outputs": [],
   "source": [
    "def mask_unique(sels, msk):\n",
    "    masked_ids = set()\n",
    "    for s in sels:\n",
    "        masked_id = s & msk\n",
    "        if masked_id in masked_ids:\n",
    "            return False\n",
    "        masked_ids.add(masked_id)\n",
    "    return True"
   ]
  },
  {
   "cell_type": "code",
   "execution_count": 113,
   "id": "c49eb902",
   "metadata": {},
   "outputs": [
    {
     "name": "stdout",
     "output_type": "stream",
     "text": [
      "basic offset: None\n"
     ]
    }
   ],
   "source": [
    "basic_mask = mask(bits)\n",
    "basic_offset = None\n",
    "for i in range(32 - bits + 1):\n",
    "    if mask_unique(selectors, basic_mask << i):\n",
    "        basic_offset = i\n",
    "        break\n",
    "print(f'basic offset: {basic_offset}')\n",
    "if basic_offset is not None:\n",
    "    print(f'mask:{basic_mask << basic_offset:032b}')"
   ]
  },
  {
   "cell_type": "markdown",
   "id": "b5960da6",
   "metadata": {},
   "source": [
    "### 1-Gap Search"
   ]
  },
  {
   "cell_type": "code",
   "execution_count": 145,
   "id": "07400006",
   "metadata": {},
   "outputs": [
    {
     "name": "stdout",
     "output_type": "stream",
     "text": [
      "concluded after 1462 iterations\n",
      "base mask: 00110001110000000000000000000000 [0x31c00000]\n",
      "mul  mask: 00000000000000000000000100000001 [0x101]\n"
     ]
    }
   ],
   "source": [
    "wmask = None\n",
    "mul_mask = None\n",
    "p = 0\n",
    "for shift in range(0, 32 - bits):\n",
    "    for gap_size in range(1, 32 - bits - shift + 1):\n",
    "        for mask_split in range(1, bits):\n",
    "            p += 1\n",
    "            mask_low = mask(bits - mask_split)\n",
    "            mask_hig = mask(mask_split)\n",
    "            base_smask = (mask_hig << (gap_size + bits - mask_split)) | mask_low\n",
    "            smask = base_smask << shift\n",
    "            if mask_unique(selectors, smask):\n",
    "                wmask = smask\n",
    "                mul_mask = 1 + (1 << (bits + gap_size))\n",
    "                break\n",
    "        if wmask is not None:\n",
    "            break\n",
    "    if wmask is not None:\n",
    "        break\n",
    "print(f'concluded after {p} iterations')\n",
    "if wmask is not None:\n",
    "    \n",
    "    print(f'base mask: {wmask:032b} [0x{wmask:x}]')\n",
    "    print(f'mul  mask: {mul_mask:032b} [0x{mul_mask:x}]')\n",
    "else:\n",
    "    print(f'mask not found ({p})')"
   ]
  },
  {
   "cell_type": "code",
   "execution_count": 142,
   "id": "769e5ec2",
   "metadata": {},
   "outputs": [
    {
     "name": "stdout",
     "output_type": "stream",
     "text": [
      "0000000000000000000000000000000000000000000000000000100001111100001111\n"
     ]
    }
   ],
   "source": [
    "r = wmask * mul_mask\n",
    "#         00110001110000000000000000000000\n",
    "print(f'{r:070b}')"
   ]
  },
  {
   "cell_type": "code",
   "execution_count": null,
   "id": "b539dc1f",
   "metadata": {},
   "outputs": [],
   "source": []
  }
 ],
 "metadata": {
  "kernelspec": {
   "display_name": "Python 3 (ipykernel)",
   "language": "python",
   "name": "python3"
  },
  "language_info": {
   "codemirror_mode": {
    "name": "ipython",
    "version": 3
   },
   "file_extension": ".py",
   "mimetype": "text/x-python",
   "name": "python",
   "nbconvert_exporter": "python",
   "pygments_lexer": "ipython3",
   "version": "3.10.6"
  }
 },
 "nbformat": 4,
 "nbformat_minor": 5
}
